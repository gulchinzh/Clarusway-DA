{
 "cells": [
  {
   "cell_type": "markdown",
   "id": "b7c97343",
   "metadata": {},
   "source": [
    "### Weekly Agenda - 7 - Statistics "
   ]
  },
  {
   "cell_type": "code",
   "execution_count": 20,
   "id": "e3d2ae2f",
   "metadata": {},
   "outputs": [],
   "source": [
    "import scipy.stats as stats\n",
    "import math as math"
   ]
  },
  {
   "cell_type": "markdown",
   "id": "0fc41540",
   "metadata": {},
   "source": [
    "-- math.comb(n,k)\n",
    "\n",
    "-- n = total number of people\n",
    "\n",
    "--k = desired number of people"
   ]
  },
  {
   "cell_type": "markdown",
   "id": "950e0922",
   "metadata": {},
   "source": [
    "- 7. In how many ways, a group of 3 boys and 2 girls can be formed out of a total of 5 boys and 5 girls?"
   ]
  },
  {
   "cell_type": "code",
   "execution_count": 21,
   "id": "7e5367f3",
   "metadata": {},
   "outputs": [
    {
     "data": {
      "text/plain": [
       "100"
      ]
     },
     "execution_count": 21,
     "metadata": {},
     "output_type": "execute_result"
    }
   ],
   "source": [
    "math.comb(5,3)*math.comb(5,2)"
   ]
  },
  {
   "cell_type": "markdown",
   "id": "391870dd",
   "metadata": {},
   "source": [
    "- 8.A woman has 6 blouses, 4 skirts, and 5 pairs of shoes. How many different outfits consisting of a blouse, a skirt, and a pair of shoes can she wear?\n"
   ]
  },
  {
   "cell_type": "code",
   "execution_count": 22,
   "id": "93801e7a",
   "metadata": {},
   "outputs": [
    {
     "data": {
      "text/plain": [
       "120"
      ]
     },
     "execution_count": 22,
     "metadata": {},
     "output_type": "execute_result"
    }
   ],
   "source": [
    "(6*4*5)"
   ]
  },
  {
   "cell_type": "code",
   "execution_count": 23,
   "id": "c80609ec",
   "metadata": {},
   "outputs": [
    {
     "data": {
      "text/plain": [
       "120"
      ]
     },
     "execution_count": 23,
     "metadata": {},
     "output_type": "execute_result"
    }
   ],
   "source": [
    "math.comb(6,1)*math.comb(4,1)*math.comb(5,1)"
   ]
  },
  {
   "cell_type": "markdown",
   "id": "e8dabe7f",
   "metadata": {},
   "source": [
    "- 9. Serena Williams won the 2010 Wimbledon Ladies’ Singles Championship. For the seven matches she played in the tournament, her total number of first serves was 379, total number of good first serves was 256, and total number of double faults was 15. \n",
    "\n",
    "--a. Find the probability that her first serve is good.\n",
    "\n",
    "--b. Find the conditional probability of double faulting, given that her first serve resulted in a fault.\n",
    "\n",
    "--c. On what percentage of her service points does she double fault?"
   ]
  },
  {
   "cell_type": "markdown",
   "id": "8c35353e",
   "metadata": {},
   "source": [
    "P(F) = Probability of First Serve \n",
    "P(D) = Probability of Double Fault"
   ]
  },
  {
   "cell_type": "code",
   "execution_count": 25,
   "id": "ee7f942a",
   "metadata": {},
   "outputs": [
    {
     "data": {
      "text/plain": [
       "0.68"
      ]
     },
     "execution_count": 25,
     "metadata": {},
     "output_type": "execute_result"
    }
   ],
   "source": [
    "#a.\n",
    "\n",
    "#Good first serve/Total first serve :\n",
    "\n",
    "round((256/379),2)"
   ]
  },
  {
   "cell_type": "code",
   "execution_count": 26,
   "id": "22ae2bc6",
   "metadata": {},
   "outputs": [
    {
     "data": {
      "text/plain": [
       "0.12"
      ]
     },
     "execution_count": 26,
     "metadata": {},
     "output_type": "execute_result"
    }
   ],
   "source": [
    "#b. \n",
    "\n",
    "#P(D) = ?\n",
    "\n",
    "#P(D|F) = P(D) / (1- P(F))\n",
    "\n",
    "round((15/379) / (1 - (256/379)),2)"
   ]
  },
  {
   "cell_type": "code",
   "execution_count": 1,
   "id": "55c7322c",
   "metadata": {},
   "outputs": [
    {
     "data": {
      "text/plain": [
       "0.12"
      ]
     },
     "execution_count": 1,
     "metadata": {},
     "output_type": "execute_result"
    }
   ],
   "source": [
    "#b\n",
    "#P(D|F) = (Probaility of D intersect probability of F) / P(F)\n",
    "\n",
    "round((15/379)/((379-256)/379),2)"
   ]
  },
  {
   "cell_type": "code",
   "execution_count": 27,
   "id": "1044729a",
   "metadata": {},
   "outputs": [
    {
     "name": "stdout",
     "output_type": "stream",
     "text": [
      "% 0.04\n"
     ]
    }
   ],
   "source": [
    "#c.\n",
    "\n",
    "print(\"%\",(round((15/376),3)))"
   ]
  },
  {
   "cell_type": "markdown",
   "id": "e744d1af",
   "metadata": {},
   "source": [
    "- 10. Suppose that in the world exist a very rare disease. The chance for anyone to have this disease is 0.1%. You want to know whether you are infected so you go take a test, and the test results come positive. The accuracy of the test is 99%, meaning that 99% of the people who have the disease will test positive, and 99% of the people who do not have the disease will test negative. What is the chance that you are actually infected? .......Bayes Theory....."
   ]
  },
  {
   "cell_type": "code",
   "execution_count": null,
   "id": "2dc79878",
   "metadata": {},
   "outputs": [],
   "source": []
  },
  {
   "cell_type": "code",
   "execution_count": null,
   "id": "f425e365",
   "metadata": {},
   "outputs": [],
   "source": []
  },
  {
   "cell_type": "code",
   "execution_count": null,
   "id": "04ddca60",
   "metadata": {},
   "outputs": [],
   "source": []
  },
  {
   "cell_type": "code",
   "execution_count": null,
   "id": "f97bdf69",
   "metadata": {},
   "outputs": [],
   "source": []
  },
  {
   "cell_type": "code",
   "execution_count": null,
   "id": "44307c15",
   "metadata": {},
   "outputs": [],
   "source": []
  }
 ],
 "metadata": {
  "kernelspec": {
   "display_name": "Python 3",
   "language": "python",
   "name": "python3"
  },
  "language_info": {
   "codemirror_mode": {
    "name": "ipython",
    "version": 3
   },
   "file_extension": ".py",
   "mimetype": "text/x-python",
   "name": "python",
   "nbconvert_exporter": "python",
   "pygments_lexer": "ipython3",
   "version": "3.8.8"
  }
 },
 "nbformat": 4,
 "nbformat_minor": 5
}
