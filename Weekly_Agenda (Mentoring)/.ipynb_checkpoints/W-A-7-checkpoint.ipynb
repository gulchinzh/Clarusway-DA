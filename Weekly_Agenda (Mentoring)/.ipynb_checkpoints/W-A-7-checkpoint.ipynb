{
 "cells": [
  {
   "cell_type": "markdown",
   "id": "6d94cdc6",
   "metadata": {},
   "source": [
    "### Weekly Agenda 7 - Statistics"
   ]
  },
  {
   "cell_type": "code",
   "execution_count": 1,
   "id": "dc5019ff",
   "metadata": {},
   "outputs": [],
   "source": [
    "import scipy.stats as stats\n",
    "import math as math"
   ]
  },
  {
   "cell_type": "markdown",
   "id": "fdb4cc64",
   "metadata": {},
   "source": [
    "- 7. In how many ways, a group of 3 boys and 2 girls can be formed out of a total of 5 boys and 5 girls?"
   ]
  },
  {
   "cell_type": "markdown",
   "id": "09dec12f",
   "metadata": {},
   "source": [
    "- If order is important, we use perm else comb."
   ]
  },
  {
   "cell_type": "markdown",
   "id": "c4a2c23a",
   "metadata": {},
   "source": [
    "math.comb(n,k)\n",
    "n = total number of people\n",
    "k = desired number of people"
   ]
  },
  {
   "cell_type": "code",
   "execution_count": 2,
   "id": "168fcc33",
   "metadata": {},
   "outputs": [],
   "source": [
    "boys = math.comb(5,3)"
   ]
  },
  {
   "cell_type": "code",
   "execution_count": 3,
   "id": "84cca048",
   "metadata": {},
   "outputs": [
    {
     "data": {
      "text/plain": [
       "10"
      ]
     },
     "execution_count": 3,
     "metadata": {},
     "output_type": "execute_result"
    }
   ],
   "source": [
    "boys"
   ]
  },
  {
   "cell_type": "code",
   "execution_count": 4,
   "id": "1dc34b46",
   "metadata": {},
   "outputs": [],
   "source": [
    "girls = math.comb(5,2)"
   ]
  },
  {
   "cell_type": "code",
   "execution_count": 5,
   "id": "18fc9728",
   "metadata": {},
   "outputs": [
    {
     "data": {
      "text/plain": [
       "10"
      ]
     },
     "execution_count": 5,
     "metadata": {},
     "output_type": "execute_result"
    }
   ],
   "source": [
    "girls"
   ]
  },
  {
   "cell_type": "code",
   "execution_count": 6,
   "id": "92612c09",
   "metadata": {},
   "outputs": [
    {
     "data": {
      "text/plain": [
       "100"
      ]
     },
     "execution_count": 6,
     "metadata": {},
     "output_type": "execute_result"
    }
   ],
   "source": [
    "boys*girls"
   ]
  },
  {
   "cell_type": "markdown",
   "id": "32898209",
   "metadata": {},
   "source": [
    "- 8.A woman has 6 blouses, 4 skirts, and 5 pairs of shoes. How many different outfits consisting of a blouse, a skirt, and a pair of shoes can she wear?\n"
   ]
  },
  {
   "cell_type": "code",
   "execution_count": 7,
   "id": "3d6e7bf1",
   "metadata": {},
   "outputs": [
    {
     "data": {
      "text/plain": [
       "120"
      ]
     },
     "execution_count": 7,
     "metadata": {},
     "output_type": "execute_result"
    }
   ],
   "source": [
    "(6*4*5)"
   ]
  },
  {
   "cell_type": "markdown",
   "id": "fde48eea",
   "metadata": {},
   "source": [
    "- 9. Serena Williams won the 2010 Wimbledon Ladies’ Singles Championship. For the seven matches she played in the tournament, her total number of first serves was 379, total number of good first serves was 256, and total number of double faults was 15. \n",
    "\n",
    "--a. Find the probability that her first serve is good.\n",
    "\n",
    "--b. Find the conditional probability of double faulting, given that her first serve resulted in a fault.\n",
    "\n",
    "--c. On what percentage of her service points does she double fault?"
   ]
  },
  {
   "cell_type": "code",
   "execution_count": 10,
   "id": "db108188",
   "metadata": {},
   "outputs": [
    {
     "data": {
      "text/plain": [
       "0.68"
      ]
     },
     "execution_count": 10,
     "metadata": {},
     "output_type": "execute_result"
    }
   ],
   "source": [
    "#a\n",
    "\n",
    "round((256/379),2)"
   ]
  },
  {
   "cell_type": "code",
   "execution_count": 16,
   "id": "3c498cae",
   "metadata": {},
   "outputs": [
    {
     "data": {
      "text/plain": [
       "0.12"
      ]
     },
     "execution_count": 16,
     "metadata": {},
     "output_type": "execute_result"
    }
   ],
   "source": [
    "#b\n",
    "#P(D|F) = (Probaility of D intersect probability of F) / P(F)\n",
    "\n",
    "round((15/379)/((379-256)/379),2)\n"
   ]
  },
  {
   "cell_type": "code",
   "execution_count": 13,
   "id": "09855846",
   "metadata": {},
   "outputs": [
    {
     "data": {
      "text/plain": [
       "0.04"
      ]
     },
     "execution_count": 13,
     "metadata": {},
     "output_type": "execute_result"
    }
   ],
   "source": [
    "#c\n",
    "\n",
    "round((15/379),2)"
   ]
  },
  {
   "cell_type": "markdown",
   "id": "cacbf8d8",
   "metadata": {},
   "source": [
    "--b. Find the conditional probability of double faulting, given that her first serve resulted in a fault.\n",
    "D = Double Fault\n",
    "F = Firt serve faulted\n",
    "\n",
    "\n",
    "P(A|B) --> P(D|F) --> (Probaility of D intersect probability of F) / P(F) --> P(F and D) / P(F)"
   ]
  },
  {
   "cell_type": "code",
   "execution_count": 19,
   "id": "44e0d6f4",
   "metadata": {},
   "outputs": [
    {
     "data": {
      "text/plain": [
       "0.12195121951219512"
      ]
     },
     "execution_count": 19,
     "metadata": {},
     "output_type": "execute_result"
    }
   ],
   "source": [
    "(15/379) / (123/379)"
   ]
  },
  {
   "cell_type": "code",
   "execution_count": 18,
   "id": "3f89ecb8",
   "metadata": {},
   "outputs": [
    {
     "data": {
      "text/plain": [
       "123"
      ]
     },
     "execution_count": 18,
     "metadata": {},
     "output_type": "execute_result"
    }
   ],
   "source": [
    "379-256 --> First faulted"
   ]
  },
  {
   "cell_type": "code",
   "execution_count": null,
   "id": "9f547a78",
   "metadata": {},
   "outputs": [],
   "source": []
  },
  {
   "cell_type": "code",
   "execution_count": null,
   "id": "c8f8f991",
   "metadata": {},
   "outputs": [],
   "source": []
  },
  {
   "cell_type": "code",
   "execution_count": null,
   "id": "c562cc00",
   "metadata": {},
   "outputs": [],
   "source": []
  }
 ],
 "metadata": {
  "kernelspec": {
   "display_name": "Python 3",
   "language": "python",
   "name": "python3"
  },
  "language_info": {
   "codemirror_mode": {
    "name": "ipython",
    "version": 3
   },
   "file_extension": ".py",
   "mimetype": "text/x-python",
   "name": "python",
   "nbconvert_exporter": "python",
   "pygments_lexer": "ipython3",
   "version": "3.8.8"
  }
 },
 "nbformat": 4,
 "nbformat_minor": 5
}
